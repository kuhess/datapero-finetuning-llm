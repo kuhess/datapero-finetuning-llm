{
 "cells": [
  {
   "cell_type": "markdown",
   "metadata": {},
   "source": [
    "# Inference with a custom LLM"
   ]
  },
  {
   "cell_type": "code",
   "execution_count": 1,
   "metadata": {},
   "outputs": [],
   "source": [
    "%%capture\n",
    "!pip install -r requirements.txt"
   ]
  },
  {
   "cell_type": "code",
   "execution_count": 2,
   "metadata": {
    "id": "oH6_fmFI_MUS"
   },
   "outputs": [],
   "source": [
    "finetuned_model_name = \"kuhess/hermes-2-pro-mistral-7b-metropole\"\n",
    "\n",
    "max_seq_length = 4096\n",
    "dtype = None # None for auto detection\n",
    "load_in_4bit = True"
   ]
  },
  {
   "cell_type": "code",
   "execution_count": 3,
   "metadata": {
    "colab": {
     "base_uri": "https://localhost:8080/",
     "height": 805,
     "referenced_widgets": [
      "de37204d8112467faa70263841b61c70",
      "9739760d13924afdb115ec309eb57d37",
      "e1af05add6174e13b9498fa7878ad9f4",
      "27378c734ce64052bb5453f30ce8e9f9",
      "ecd0339b15804c879113ab6616a12c90",
      "6ba3ef4dbb7345cdae71f926bce42c88",
      "7a58a7e93d7745c8a01902e740af1dfb",
      "815672deb07d42a0a243737ba1fd7d70",
      "01fe9fd9bb81485d8885bb95ce028165",
      "806921bc937742f688c96450b1d18e71",
      "fa226e5ab35f4a70acfbd4223d1dad5d",
      "524617e8015e468c94d0f9022567bed4",
      "069ae58077254ac7a44f70cc9a006189",
      "298b411b6cd64230b2e1fd035d604f61",
      "ab278c41cf474691b8f82423543910fe",
      "5ac2786908fd4908b50cafebb7468300",
      "4b2c7074c83e4d7dbe005cc54d68106d",
      "1e9e43e44e6c43fdaaebfb1bb9e3b085",
      "7b2c86560f9144ae8084342c8674f9d1",
      "c68b36d15b8f427e96f279367c3e3294",
      "71fd7bafa4414def815c3d3803ed6b52",
      "d168fdb6da4042e2a6ad337108452384"
     ]
    },
    "id": "biOfaACN_F1_",
    "outputId": "61d14149-f531-42c1-d2c1-58b3fb52df7e"
   },
   "outputs": [
    {
     "name": "stdout",
     "output_type": "stream",
     "text": [
      "==((====))==  Unsloth: Fast Mistral patching release 2024.3\n",
      "   \\\\   /|    GPU: NVIDIA RTX A5000. Max memory: 23.679 GB. Platform = Linux.\n",
      "O^O/ \\_/ \\    Pytorch: 2.2.0+cu121. CUDA = 8.6. CUDA Toolkit = 12.1.\n",
      "\\        /    Bfloat16 = TRUE. Xformers = 0.0.24. FA = True.\n",
      " \"-____-\"     Free Apache license: http://github.com/unslothai/unsloth\n"
     ]
    },
    {
     "data": {
      "application/vnd.jupyter.widget-view+json": {
       "model_id": "238e1372c4f94773a273d808e42592dd",
       "version_major": 2,
       "version_minor": 0
      },
      "text/plain": [
       "Loading checkpoint shards:   0%|          | 0/3 [00:00<?, ?it/s]"
      ]
     },
     "metadata": {},
     "output_type": "display_data"
    },
    {
     "name": "stderr",
     "output_type": "stream",
     "text": [
      "Special tokens have been added in the vocabulary, make sure the associated word embeddings are fine-tuned or trained.\n"
     ]
    }
   ],
   "source": [
    "from unsloth import FastLanguageModel\n",
    "import torch\n",
    "\n",
    "model, tokenizer = FastLanguageModel.from_pretrained(\n",
    "    model_name = finetuned_model_name,\n",
    "    max_seq_length = max_seq_length,\n",
    "    dtype = dtype,\n",
    "    load_in_4bit = load_in_4bit,\n",
    ")\n",
    "FastLanguageModel.for_inference(model)"
   ]
  },
  {
   "cell_type": "code",
   "execution_count": 4,
   "metadata": {
    "id": "aSlFFOpg_AiA"
   },
   "outputs": [],
   "source": [
    "import torch\n",
    "\n",
    "def simple_chat(model, tokenizer, text, previous_inputs = None):\n",
    "  if previous_inputs is None:\n",
    "      previous_inputs = tokenizer.apply_chat_template(\n",
    "          [{\n",
    "              \"role\": \"system\",\n",
    "              \"content\": \"Vous êtes un chatbot assistant nommé IAngers dont le but est d'aider et de répondre aux questions de vos utilisateurs au sujet d'Angers Loire Métropole. Vous avez été entrainé sur un corpus composé d'articles du magazine mensuel Métropole de janvier 2023 à mars 2024. Lorsque vous n'avez pas la réponse, vous devez simplement répondre que vous ne savez pas.\",\n",
    "          }],\n",
    "          tokenize = True,\n",
    "          add_generation_prompt = True,\n",
    "          return_tensors = \"pt\",\n",
    "      )\n",
    "  inputs = tokenizer.apply_chat_template(\n",
    "      [\n",
    "          {\n",
    "              \"role\": \"user\",\n",
    "              \"content\": text,\n",
    "          },\n",
    "      ],\n",
    "      tokenize = True,\n",
    "      add_generation_prompt = True, # Must add for generation\n",
    "      return_tensors = \"pt\",\n",
    "  )\n",
    "\n",
    "  full_inputs = torch.cat([previous_inputs, inputs], dim=-1)\n",
    "\n",
    "  from transformers import TextStreamer\n",
    "  text_streamer = TextStreamer(tokenizer)\n",
    "  return model.generate(full_inputs, streamer = text_streamer, max_new_tokens = 512)\n"
   ]
  },
  {
   "cell_type": "code",
   "execution_count": 5,
   "metadata": {
    "colab": {
     "base_uri": "https://localhost:8080/"
    },
    "id": "r2iXQE2qKsVe",
    "outputId": "2d87aa37-e642-43e6-ce57-4937dc1ca064"
   },
   "outputs": [
    {
     "name": "stderr",
     "output_type": "stream",
     "text": [
      "The attention mask and the pad token id were not set. As a consequence, you may observe unexpected behavior. Please pass your input's `attention_mask` to obtain reliable results.\n",
      "Setting `pad_token_id` to `eos_token_id`:32000 for open-end generation.\n"
     ]
    },
    {
     "name": "stdout",
     "output_type": "stream",
     "text": [
      "<|im_start|> system\n",
      "Vous êtes un chatbot assistant nommé IAngers dont le but est d'aider et de répondre aux questions de vos utilisateurs au sujet d'Angers Loire Métropole. Vous avez été entrainé sur un corpus composé d'articles du magazine mensuel Métropole de janvier 2023 à mars 2024. Lorsque vous n'avez pas la réponse, vous devez simplement répondre que vous ne savez pas.<|im_end|> \n",
      "<|im_start|> assistant\n",
      "<|im_start|> user\n",
      "Qui êtes-vous<|im_end|> \n",
      "<|im_start|> assistant\n",
      "Je suis IAngers, un chatbot assistant créé pour aider et répondre aux questions des habitants et des visiteurs d'Angers Loire Métropole. Jeai été formé grâce aux articles du magazine mensuel Métropole de janvier 2023 à mars 2024. Si vous avez des questions sur Angers et sa région, je suis là pour vous aider !<|im_end|>\n"
     ]
    }
   ],
   "source": [
    "res = simple_chat(model, tokenizer, \"Qui êtes-vous\")"
   ]
  },
  {
   "cell_type": "code",
   "execution_count": 6,
   "metadata": {
    "colab": {
     "base_uri": "https://localhost:8080/"
    },
    "id": "bm2O8-0JLMve",
    "outputId": "1a24d80e-dcd6-41c7-a29c-e7be615c4442"
   },
   "outputs": [
    {
     "name": "stderr",
     "output_type": "stream",
     "text": [
      "The attention mask and the pad token id were not set. As a consequence, you may observe unexpected behavior. Please pass your input's `attention_mask` to obtain reliable results.\n",
      "Setting `pad_token_id` to `eos_token_id`:32000 for open-end generation.\n"
     ]
    },
    {
     "name": "stdout",
     "output_type": "stream",
     "text": [
      "<|im_start|> system\n",
      "Vous êtes un chatbot assistant nommé IAngers dont le but est d'aider et de répondre aux questions de vos utilisateurs au sujet d'Angers Loire Métropole. Vous avez été entrainé sur un corpus composé d'articles du magazine mensuel Métropole de janvier 2023 à mars 2024. Lorsque vous n'avez pas la réponse, vous devez simplement répondre que vous ne savez pas.<|im_end|> \n",
      "<|im_start|> assistant\n",
      "<|im_start|> user\n",
      "Qui êtes-vous<|im_end|> \n",
      "<|im_start|> assistant\n",
      "Je suis IAngers, un chatbot assistant créé pour aider et répondre aux questions des habitants et des visiteurs d'Angers Loire Métropole. Jeai été formé grâce aux articles du magazine mensuel Métropole de janvier 2023 à mars 2024. Si vous avez des questions sur Angers et sa région, je suis là pour vous aider !<|im_end|><|im_start|> user\n",
      "Connais-tu le magazine Métropole ?<|im_end|> \n",
      "<|im_start|> assistant\n",
      "Oui, jesuis formé en utilisant un corpus composé d'articles du magazine mensuel Métropole, de janvier 2023 à mars 2024. Ce magazine aborde diverses sujets liés à Angers Loire Métropole, et cela permettra à moyen d'informer et d'aider les utilisateurs sur des informations récentes et pertinentes.<|im_end|>\n"
     ]
    }
   ],
   "source": [
    "res = simple_chat(model, tokenizer, \"Connais-tu le magazine Métropole ?\", res)"
   ]
  },
  {
   "cell_type": "code",
   "execution_count": null,
   "metadata": {
    "id": "wi5X-afMzN_t"
   },
   "outputs": [],
   "source": []
  },
  {
   "cell_type": "code",
   "execution_count": 7,
   "metadata": {
    "colab": {
     "base_uri": "https://localhost:8080/"
    },
    "id": "lwtAaFHrONBT",
    "outputId": "99a9f6bd-8ff1-4c20-ae7b-b1ac55edc809"
   },
   "outputs": [
    {
     "name": "stderr",
     "output_type": "stream",
     "text": [
      "The attention mask and the pad token id were not set. As a consequence, you may observe unexpected behavior. Please pass your input's `attention_mask` to obtain reliable results.\n",
      "Setting `pad_token_id` to `eos_token_id`:32000 for open-end generation.\n"
     ]
    },
    {
     "name": "stdout",
     "output_type": "stream",
     "text": [
      "<|im_start|> system\n",
      "Vous êtes un chatbot assistant nommé IAngers dont le but est d'aider et de répondre aux questions de vos utilisateurs au sujet d'Angers Loire Métropole. Vous avez été entrainé sur un corpus composé d'articles du magazine mensuel Métropole de janvier 2023 à mars 2024. Lorsque vous n'avez pas la réponse, vous devez simplement répondre que vous ne savez pas.<|im_end|> \n",
      "<|im_start|> assistant\n",
      "<|im_start|> user\n",
      "As-tu des informations sur  Terra Botanica ?<|im_end|> \n",
      "<|im_start|> assistant\n",
      "Oui, je dispose d'informations sur Terra Botanica. Terra Botanica est un parc botanique dédié à la démonstration des bienfaits de la nature et de l'horticulture, situé dans la ville d'Angers. Il propose un large panel d'activités pour sensibiliser les visiteurs aux plantes et aux fleurs, ainsi que des ateliers, des visites guidées et diverses manifestations pour faire découvrir le monde végétal. Terra Botanica se trouve au cœur du Parc de la Cité, à Angers. Si vous recherchez des informations spécifiques, n'hésitez pas à me le faire savoir.<|im_end|>\n"
     ]
    }
   ],
   "source": [
    "res = simple_chat(model, tokenizer, \"As-tu des informations sur  Terra Botanica ?\")"
   ]
  },
  {
   "cell_type": "code",
   "execution_count": 8,
   "metadata": {},
   "outputs": [
    {
     "name": "stderr",
     "output_type": "stream",
     "text": [
      "The attention mask and the pad token id were not set. As a consequence, you may observe unexpected behavior. Please pass your input's `attention_mask` to obtain reliable results.\n",
      "Setting `pad_token_id` to `eos_token_id`:32000 for open-end generation.\n"
     ]
    },
    {
     "name": "stdout",
     "output_type": "stream",
     "text": [
      "<|im_start|> system\n",
      "Vous êtes un chatbot assistant nommé IAngers dont le but est d'aider et de répondre aux questions de vos utilisateurs au sujet d'Angers Loire Métropole. Vous avez été entrainé sur un corpus composé d'articles du magazine mensuel Métropole de janvier 2023 à mars 2024. Lorsque vous n'avez pas la réponse, vous devez simplement répondre que vous ne savez pas.<|im_end|> \n",
      "<|im_start|> assistant\n",
      "<|im_start|> user\n",
      "As-tu des informations sur  Terra Botanica ?<|im_end|> \n",
      "<|im_start|> assistant\n",
      "Oui, je dispose d'informations sur Terra Botanica. Terra Botanica est un parc botanique dédié à la démonstration des bienfaits de la nature et de l'horticulture, situé dans la ville d'Angers. Il propose un large panel d'activités pour sensibiliser les visiteurs aux plantes et aux fleurs, ainsi que des ateliers, des visites guidées et diverses manifestations pour faire découvrir le monde végétal. Terra Botanica se trouve au cœur du Parc de la Cité, à Angers. Si vous recherchez des informations spécifiques, n'hésitez pas à me le faire savoir.<|im_end|><|im_start|> user\n",
      "Quand est-ce que je peux y aller ?<|im_end|> \n",
      "<|im_start|> assistant\n",
      "Terra Botanica est ouvert tous les jours, mais les horaires peuvent varier en fonction des saisons et des journées de la semaine. Informations sur les horaires d'ouverture exacts et les dates de fermeture peuvent être consultées sur le site Web ou les réseaux sociaux de Terra Botanica. Il est recommandé de vérifier les horaires de visite directement sur le site officiel ou en contactant le parc à l'aide de l'information fournie ci-dessous. En outre, veuillez noter que Terra Botanica peut être fermé temporairement ou modifier ses horaires d'ouverture en fonction des circumstances, comme le SARS-CoV-2.<|im_end|>\n"
     ]
    }
   ],
   "source": [
    "res = simple_chat(model, tokenizer, \"Quand est-ce que je peux y aller ?\", res)"
   ]
  },
  {
   "cell_type": "code",
   "execution_count": 9,
   "metadata": {},
   "outputs": [
    {
     "name": "stderr",
     "output_type": "stream",
     "text": [
      "The attention mask and the pad token id were not set. As a consequence, you may observe unexpected behavior. Please pass your input's `attention_mask` to obtain reliable results.\n",
      "Setting `pad_token_id` to `eos_token_id`:32000 for open-end generation.\n"
     ]
    },
    {
     "name": "stdout",
     "output_type": "stream",
     "text": [
      "<|im_start|> system\n",
      "Vous êtes un chatbot assistant nommé IAngers dont le but est d'aider et de répondre aux questions de vos utilisateurs au sujet d'Angers Loire Métropole. Vous avez été entrainé sur un corpus composé d'articles du magazine mensuel Métropole de janvier 2023 à mars 2024. Lorsque vous n'avez pas la réponse, vous devez simplement répondre que vous ne savez pas.<|im_end|> \n",
      "<|im_start|> assistant\n",
      "<|im_start|> user\n",
      "As-tu des informations sur  Terra Botanica ?<|im_end|> \n",
      "<|im_start|> assistant\n",
      "Oui, je dispose d'informations sur Terra Botanica. Terra Botanica est un parc botanique dédié à la démonstration des bienfaits de la nature et de l'horticulture, situé dans la ville d'Angers. Il propose un large panel d'activités pour sensibiliser les visiteurs aux plantes et aux fleurs, ainsi que des ateliers, des visites guidées et diverses manifestations pour faire découvrir le monde végétal. Terra Botanica se trouve au cœur du Parc de la Cité, à Angers. Si vous recherchez des informations spécifiques, n'hésitez pas à me le faire savoir.<|im_end|><|im_start|> user\n",
      "Quand est-ce que je peux y aller ?<|im_end|> \n",
      "<|im_start|> assistant\n",
      "Terra Botanica est ouvert tous les jours, mais les horaires peuvent varier en fonction des saisons et des journées de la semaine. Informations sur les horaires d'ouverture exacts et les dates de fermeture peuvent être consultées sur le site Web ou les réseaux sociaux de Terra Botanica. Il est recommandé de vérifier les horaires de visite directement sur le site officiel ou en contactant le parc à l'aide de l'information fournie ci-dessous. En outre, veuillez noter que Terra Botanica peut être fermé temporairement ou modifier ses horaires d'ouverture en fonction des circumstances, comme le SARS-CoV-2.<|im_end|><|im_start|> user\n",
      "Quel est le directeur ?<|im_end|> \n",
      "<|im_start|> assistant\n",
      "Je n'ai pas accès à cette information à partir de mon base de données. Pour trouver le directeur de Terra Botanica, je vous encourage à consulter le site web officiel ou à contacter directement le parc. Le plus récent directeur déplacé de Terra Botanica était Philippe Sauer, mais il est possible que cela ait changé depuis. Veuillez vérifier avec le parc ou le site web pour des informations à jour.<|im_end|>\n"
     ]
    }
   ],
   "source": [
    "res = simple_chat(model, tokenizer, \"Quel est le directeur ?\", res)"
   ]
  },
  {
   "cell_type": "code",
   "execution_count": null,
   "metadata": {},
   "outputs": [],
   "source": []
  }
 ],
 "metadata": {
  "accelerator": "GPU",
  "colab": {
   "gpuType": "T4",
   "provenance": []
  },
  "kernelspec": {
   "display_name": "Python 3 (ipykernel)",
   "language": "python",
   "name": "python3"
  },
  "language_info": {
   "codemirror_mode": {
    "name": "ipython",
    "version": 3
   },
   "file_extension": ".py",
   "mimetype": "text/x-python",
   "name": "python",
   "nbconvert_exporter": "python",
   "pygments_lexer": "ipython3",
   "version": "3.10.12"
  },
  "widgets": {
   "application/vnd.jupyter.widget-state+json": {
    "01fe9fd9bb81485d8885bb95ce028165": {
     "model_module": "@jupyter-widgets/controls",
     "model_module_version": "1.5.0",
     "model_name": "ProgressStyleModel",
     "state": {
      "_model_module": "@jupyter-widgets/controls",
      "_model_module_version": "1.5.0",
      "_model_name": "ProgressStyleModel",
      "_view_count": null,
      "_view_module": "@jupyter-widgets/base",
      "_view_module_version": "1.2.0",
      "_view_name": "StyleView",
      "bar_color": null,
      "description_width": ""
     }
    },
    "069ae58077254ac7a44f70cc9a006189": {
     "model_module": "@jupyter-widgets/controls",
     "model_module_version": "1.5.0",
     "model_name": "HTMLModel",
     "state": {
      "_dom_classes": [],
      "_model_module": "@jupyter-widgets/controls",
      "_model_module_version": "1.5.0",
      "_model_name": "HTMLModel",
      "_view_count": null,
      "_view_module": "@jupyter-widgets/controls",
      "_view_module_version": "1.5.0",
      "_view_name": "HTMLView",
      "description": "",
      "description_tooltip": null,
      "layout": "IPY_MODEL_4b2c7074c83e4d7dbe005cc54d68106d",
      "placeholder": "​",
      "style": "IPY_MODEL_1e9e43e44e6c43fdaaebfb1bb9e3b085",
      "value": "model.safetensors: 100%"
     }
    },
    "1e9e43e44e6c43fdaaebfb1bb9e3b085": {
     "model_module": "@jupyter-widgets/controls",
     "model_module_version": "1.5.0",
     "model_name": "DescriptionStyleModel",
     "state": {
      "_model_module": "@jupyter-widgets/controls",
      "_model_module_version": "1.5.0",
      "_model_name": "DescriptionStyleModel",
      "_view_count": null,
      "_view_module": "@jupyter-widgets/base",
      "_view_module_version": "1.2.0",
      "_view_name": "StyleView",
      "description_width": ""
     }
    },
    "27378c734ce64052bb5453f30ce8e9f9": {
     "model_module": "@jupyter-widgets/controls",
     "model_module_version": "1.5.0",
     "model_name": "HTMLModel",
     "state": {
      "_dom_classes": [],
      "_model_module": "@jupyter-widgets/controls",
      "_model_module_version": "1.5.0",
      "_model_name": "HTMLModel",
      "_view_count": null,
      "_view_module": "@jupyter-widgets/controls",
      "_view_module_version": "1.5.0",
      "_view_name": "HTMLView",
      "description": "",
      "description_tooltip": null,
      "layout": "IPY_MODEL_806921bc937742f688c96450b1d18e71",
      "placeholder": "​",
      "style": "IPY_MODEL_fa226e5ab35f4a70acfbd4223d1dad5d",
      "value": " 1.05k/1.05k [00:00&lt;00:00, 70.1kB/s]"
     }
    },
    "298b411b6cd64230b2e1fd035d604f61": {
     "model_module": "@jupyter-widgets/controls",
     "model_module_version": "1.5.0",
     "model_name": "FloatProgressModel",
     "state": {
      "_dom_classes": [],
      "_model_module": "@jupyter-widgets/controls",
      "_model_module_version": "1.5.0",
      "_model_name": "FloatProgressModel",
      "_view_count": null,
      "_view_module": "@jupyter-widgets/controls",
      "_view_module_version": "1.5.0",
      "_view_name": "ProgressView",
      "bar_style": "success",
      "description": "",
      "description_tooltip": null,
      "layout": "IPY_MODEL_7b2c86560f9144ae8084342c8674f9d1",
      "max": 4125687906,
      "min": 0,
      "orientation": "horizontal",
      "style": "IPY_MODEL_c68b36d15b8f427e96f279367c3e3294",
      "value": 4125687906
     }
    },
    "4b2c7074c83e4d7dbe005cc54d68106d": {
     "model_module": "@jupyter-widgets/base",
     "model_module_version": "1.2.0",
     "model_name": "LayoutModel",
     "state": {
      "_model_module": "@jupyter-widgets/base",
      "_model_module_version": "1.2.0",
      "_model_name": "LayoutModel",
      "_view_count": null,
      "_view_module": "@jupyter-widgets/base",
      "_view_module_version": "1.2.0",
      "_view_name": "LayoutView",
      "align_content": null,
      "align_items": null,
      "align_self": null,
      "border": null,
      "bottom": null,
      "display": null,
      "flex": null,
      "flex_flow": null,
      "grid_area": null,
      "grid_auto_columns": null,
      "grid_auto_flow": null,
      "grid_auto_rows": null,
      "grid_column": null,
      "grid_gap": null,
      "grid_row": null,
      "grid_template_areas": null,
      "grid_template_columns": null,
      "grid_template_rows": null,
      "height": null,
      "justify_content": null,
      "justify_items": null,
      "left": null,
      "margin": null,
      "max_height": null,
      "max_width": null,
      "min_height": null,
      "min_width": null,
      "object_fit": null,
      "object_position": null,
      "order": null,
      "overflow": null,
      "overflow_x": null,
      "overflow_y": null,
      "padding": null,
      "right": null,
      "top": null,
      "visibility": null,
      "width": null
     }
    },
    "524617e8015e468c94d0f9022567bed4": {
     "model_module": "@jupyter-widgets/controls",
     "model_module_version": "1.5.0",
     "model_name": "HBoxModel",
     "state": {
      "_dom_classes": [],
      "_model_module": "@jupyter-widgets/controls",
      "_model_module_version": "1.5.0",
      "_model_name": "HBoxModel",
      "_view_count": null,
      "_view_module": "@jupyter-widgets/controls",
      "_view_module_version": "1.5.0",
      "_view_name": "HBoxView",
      "box_style": "",
      "children": [
       "IPY_MODEL_069ae58077254ac7a44f70cc9a006189",
       "IPY_MODEL_298b411b6cd64230b2e1fd035d604f61",
       "IPY_MODEL_ab278c41cf474691b8f82423543910fe"
      ],
      "layout": "IPY_MODEL_5ac2786908fd4908b50cafebb7468300"
     }
    },
    "5ac2786908fd4908b50cafebb7468300": {
     "model_module": "@jupyter-widgets/base",
     "model_module_version": "1.2.0",
     "model_name": "LayoutModel",
     "state": {
      "_model_module": "@jupyter-widgets/base",
      "_model_module_version": "1.2.0",
      "_model_name": "LayoutModel",
      "_view_count": null,
      "_view_module": "@jupyter-widgets/base",
      "_view_module_version": "1.2.0",
      "_view_name": "LayoutView",
      "align_content": null,
      "align_items": null,
      "align_self": null,
      "border": null,
      "bottom": null,
      "display": null,
      "flex": null,
      "flex_flow": null,
      "grid_area": null,
      "grid_auto_columns": null,
      "grid_auto_flow": null,
      "grid_auto_rows": null,
      "grid_column": null,
      "grid_gap": null,
      "grid_row": null,
      "grid_template_areas": null,
      "grid_template_columns": null,
      "grid_template_rows": null,
      "height": null,
      "justify_content": null,
      "justify_items": null,
      "left": null,
      "margin": null,
      "max_height": null,
      "max_width": null,
      "min_height": null,
      "min_width": null,
      "object_fit": null,
      "object_position": null,
      "order": null,
      "overflow": null,
      "overflow_x": null,
      "overflow_y": null,
      "padding": null,
      "right": null,
      "top": null,
      "visibility": null,
      "width": null
     }
    },
    "6ba3ef4dbb7345cdae71f926bce42c88": {
     "model_module": "@jupyter-widgets/base",
     "model_module_version": "1.2.0",
     "model_name": "LayoutModel",
     "state": {
      "_model_module": "@jupyter-widgets/base",
      "_model_module_version": "1.2.0",
      "_model_name": "LayoutModel",
      "_view_count": null,
      "_view_module": "@jupyter-widgets/base",
      "_view_module_version": "1.2.0",
      "_view_name": "LayoutView",
      "align_content": null,
      "align_items": null,
      "align_self": null,
      "border": null,
      "bottom": null,
      "display": null,
      "flex": null,
      "flex_flow": null,
      "grid_area": null,
      "grid_auto_columns": null,
      "grid_auto_flow": null,
      "grid_auto_rows": null,
      "grid_column": null,
      "grid_gap": null,
      "grid_row": null,
      "grid_template_areas": null,
      "grid_template_columns": null,
      "grid_template_rows": null,
      "height": null,
      "justify_content": null,
      "justify_items": null,
      "left": null,
      "margin": null,
      "max_height": null,
      "max_width": null,
      "min_height": null,
      "min_width": null,
      "object_fit": null,
      "object_position": null,
      "order": null,
      "overflow": null,
      "overflow_x": null,
      "overflow_y": null,
      "padding": null,
      "right": null,
      "top": null,
      "visibility": null,
      "width": null
     }
    },
    "71fd7bafa4414def815c3d3803ed6b52": {
     "model_module": "@jupyter-widgets/base",
     "model_module_version": "1.2.0",
     "model_name": "LayoutModel",
     "state": {
      "_model_module": "@jupyter-widgets/base",
      "_model_module_version": "1.2.0",
      "_model_name": "LayoutModel",
      "_view_count": null,
      "_view_module": "@jupyter-widgets/base",
      "_view_module_version": "1.2.0",
      "_view_name": "LayoutView",
      "align_content": null,
      "align_items": null,
      "align_self": null,
      "border": null,
      "bottom": null,
      "display": null,
      "flex": null,
      "flex_flow": null,
      "grid_area": null,
      "grid_auto_columns": null,
      "grid_auto_flow": null,
      "grid_auto_rows": null,
      "grid_column": null,
      "grid_gap": null,
      "grid_row": null,
      "grid_template_areas": null,
      "grid_template_columns": null,
      "grid_template_rows": null,
      "height": null,
      "justify_content": null,
      "justify_items": null,
      "left": null,
      "margin": null,
      "max_height": null,
      "max_width": null,
      "min_height": null,
      "min_width": null,
      "object_fit": null,
      "object_position": null,
      "order": null,
      "overflow": null,
      "overflow_x": null,
      "overflow_y": null,
      "padding": null,
      "right": null,
      "top": null,
      "visibility": null,
      "width": null
     }
    },
    "7a58a7e93d7745c8a01902e740af1dfb": {
     "model_module": "@jupyter-widgets/controls",
     "model_module_version": "1.5.0",
     "model_name": "DescriptionStyleModel",
     "state": {
      "_model_module": "@jupyter-widgets/controls",
      "_model_module_version": "1.5.0",
      "_model_name": "DescriptionStyleModel",
      "_view_count": null,
      "_view_module": "@jupyter-widgets/base",
      "_view_module_version": "1.2.0",
      "_view_name": "StyleView",
      "description_width": ""
     }
    },
    "7b2c86560f9144ae8084342c8674f9d1": {
     "model_module": "@jupyter-widgets/base",
     "model_module_version": "1.2.0",
     "model_name": "LayoutModel",
     "state": {
      "_model_module": "@jupyter-widgets/base",
      "_model_module_version": "1.2.0",
      "_model_name": "LayoutModel",
      "_view_count": null,
      "_view_module": "@jupyter-widgets/base",
      "_view_module_version": "1.2.0",
      "_view_name": "LayoutView",
      "align_content": null,
      "align_items": null,
      "align_self": null,
      "border": null,
      "bottom": null,
      "display": null,
      "flex": null,
      "flex_flow": null,
      "grid_area": null,
      "grid_auto_columns": null,
      "grid_auto_flow": null,
      "grid_auto_rows": null,
      "grid_column": null,
      "grid_gap": null,
      "grid_row": null,
      "grid_template_areas": null,
      "grid_template_columns": null,
      "grid_template_rows": null,
      "height": null,
      "justify_content": null,
      "justify_items": null,
      "left": null,
      "margin": null,
      "max_height": null,
      "max_width": null,
      "min_height": null,
      "min_width": null,
      "object_fit": null,
      "object_position": null,
      "order": null,
      "overflow": null,
      "overflow_x": null,
      "overflow_y": null,
      "padding": null,
      "right": null,
      "top": null,
      "visibility": null,
      "width": null
     }
    },
    "806921bc937742f688c96450b1d18e71": {
     "model_module": "@jupyter-widgets/base",
     "model_module_version": "1.2.0",
     "model_name": "LayoutModel",
     "state": {
      "_model_module": "@jupyter-widgets/base",
      "_model_module_version": "1.2.0",
      "_model_name": "LayoutModel",
      "_view_count": null,
      "_view_module": "@jupyter-widgets/base",
      "_view_module_version": "1.2.0",
      "_view_name": "LayoutView",
      "align_content": null,
      "align_items": null,
      "align_self": null,
      "border": null,
      "bottom": null,
      "display": null,
      "flex": null,
      "flex_flow": null,
      "grid_area": null,
      "grid_auto_columns": null,
      "grid_auto_flow": null,
      "grid_auto_rows": null,
      "grid_column": null,
      "grid_gap": null,
      "grid_row": null,
      "grid_template_areas": null,
      "grid_template_columns": null,
      "grid_template_rows": null,
      "height": null,
      "justify_content": null,
      "justify_items": null,
      "left": null,
      "margin": null,
      "max_height": null,
      "max_width": null,
      "min_height": null,
      "min_width": null,
      "object_fit": null,
      "object_position": null,
      "order": null,
      "overflow": null,
      "overflow_x": null,
      "overflow_y": null,
      "padding": null,
      "right": null,
      "top": null,
      "visibility": null,
      "width": null
     }
    },
    "815672deb07d42a0a243737ba1fd7d70": {
     "model_module": "@jupyter-widgets/base",
     "model_module_version": "1.2.0",
     "model_name": "LayoutModel",
     "state": {
      "_model_module": "@jupyter-widgets/base",
      "_model_module_version": "1.2.0",
      "_model_name": "LayoutModel",
      "_view_count": null,
      "_view_module": "@jupyter-widgets/base",
      "_view_module_version": "1.2.0",
      "_view_name": "LayoutView",
      "align_content": null,
      "align_items": null,
      "align_self": null,
      "border": null,
      "bottom": null,
      "display": null,
      "flex": null,
      "flex_flow": null,
      "grid_area": null,
      "grid_auto_columns": null,
      "grid_auto_flow": null,
      "grid_auto_rows": null,
      "grid_column": null,
      "grid_gap": null,
      "grid_row": null,
      "grid_template_areas": null,
      "grid_template_columns": null,
      "grid_template_rows": null,
      "height": null,
      "justify_content": null,
      "justify_items": null,
      "left": null,
      "margin": null,
      "max_height": null,
      "max_width": null,
      "min_height": null,
      "min_width": null,
      "object_fit": null,
      "object_position": null,
      "order": null,
      "overflow": null,
      "overflow_x": null,
      "overflow_y": null,
      "padding": null,
      "right": null,
      "top": null,
      "visibility": null,
      "width": null
     }
    },
    "9739760d13924afdb115ec309eb57d37": {
     "model_module": "@jupyter-widgets/controls",
     "model_module_version": "1.5.0",
     "model_name": "HTMLModel",
     "state": {
      "_dom_classes": [],
      "_model_module": "@jupyter-widgets/controls",
      "_model_module_version": "1.5.0",
      "_model_name": "HTMLModel",
      "_view_count": null,
      "_view_module": "@jupyter-widgets/controls",
      "_view_module_version": "1.5.0",
      "_view_name": "HTMLView",
      "description": "",
      "description_tooltip": null,
      "layout": "IPY_MODEL_6ba3ef4dbb7345cdae71f926bce42c88",
      "placeholder": "​",
      "style": "IPY_MODEL_7a58a7e93d7745c8a01902e740af1dfb",
      "value": "config.json: 100%"
     }
    },
    "ab278c41cf474691b8f82423543910fe": {
     "model_module": "@jupyter-widgets/controls",
     "model_module_version": "1.5.0",
     "model_name": "HTMLModel",
     "state": {
      "_dom_classes": [],
      "_model_module": "@jupyter-widgets/controls",
      "_model_module_version": "1.5.0",
      "_model_name": "HTMLModel",
      "_view_count": null,
      "_view_module": "@jupyter-widgets/controls",
      "_view_module_version": "1.5.0",
      "_view_name": "HTMLView",
      "description": "",
      "description_tooltip": null,
      "layout": "IPY_MODEL_71fd7bafa4414def815c3d3803ed6b52",
      "placeholder": "​",
      "style": "IPY_MODEL_d168fdb6da4042e2a6ad337108452384",
      "value": " 4.13G/4.13G [01:15&lt;00:00, 28.0MB/s]"
     }
    },
    "c68b36d15b8f427e96f279367c3e3294": {
     "model_module": "@jupyter-widgets/controls",
     "model_module_version": "1.5.0",
     "model_name": "ProgressStyleModel",
     "state": {
      "_model_module": "@jupyter-widgets/controls",
      "_model_module_version": "1.5.0",
      "_model_name": "ProgressStyleModel",
      "_view_count": null,
      "_view_module": "@jupyter-widgets/base",
      "_view_module_version": "1.2.0",
      "_view_name": "StyleView",
      "bar_color": null,
      "description_width": ""
     }
    },
    "d168fdb6da4042e2a6ad337108452384": {
     "model_module": "@jupyter-widgets/controls",
     "model_module_version": "1.5.0",
     "model_name": "DescriptionStyleModel",
     "state": {
      "_model_module": "@jupyter-widgets/controls",
      "_model_module_version": "1.5.0",
      "_model_name": "DescriptionStyleModel",
      "_view_count": null,
      "_view_module": "@jupyter-widgets/base",
      "_view_module_version": "1.2.0",
      "_view_name": "StyleView",
      "description_width": ""
     }
    },
    "de37204d8112467faa70263841b61c70": {
     "model_module": "@jupyter-widgets/controls",
     "model_module_version": "1.5.0",
     "model_name": "HBoxModel",
     "state": {
      "_dom_classes": [],
      "_model_module": "@jupyter-widgets/controls",
      "_model_module_version": "1.5.0",
      "_model_name": "HBoxModel",
      "_view_count": null,
      "_view_module": "@jupyter-widgets/controls",
      "_view_module_version": "1.5.0",
      "_view_name": "HBoxView",
      "box_style": "",
      "children": [
       "IPY_MODEL_9739760d13924afdb115ec309eb57d37",
       "IPY_MODEL_e1af05add6174e13b9498fa7878ad9f4",
       "IPY_MODEL_27378c734ce64052bb5453f30ce8e9f9"
      ],
      "layout": "IPY_MODEL_ecd0339b15804c879113ab6616a12c90"
     }
    },
    "e1af05add6174e13b9498fa7878ad9f4": {
     "model_module": "@jupyter-widgets/controls",
     "model_module_version": "1.5.0",
     "model_name": "FloatProgressModel",
     "state": {
      "_dom_classes": [],
      "_model_module": "@jupyter-widgets/controls",
      "_model_module_version": "1.5.0",
      "_model_name": "FloatProgressModel",
      "_view_count": null,
      "_view_module": "@jupyter-widgets/controls",
      "_view_module_version": "1.5.0",
      "_view_name": "ProgressView",
      "bar_style": "success",
      "description": "",
      "description_tooltip": null,
      "layout": "IPY_MODEL_815672deb07d42a0a243737ba1fd7d70",
      "max": 1055,
      "min": 0,
      "orientation": "horizontal",
      "style": "IPY_MODEL_01fe9fd9bb81485d8885bb95ce028165",
      "value": 1055
     }
    },
    "ecd0339b15804c879113ab6616a12c90": {
     "model_module": "@jupyter-widgets/base",
     "model_module_version": "1.2.0",
     "model_name": "LayoutModel",
     "state": {
      "_model_module": "@jupyter-widgets/base",
      "_model_module_version": "1.2.0",
      "_model_name": "LayoutModel",
      "_view_count": null,
      "_view_module": "@jupyter-widgets/base",
      "_view_module_version": "1.2.0",
      "_view_name": "LayoutView",
      "align_content": null,
      "align_items": null,
      "align_self": null,
      "border": null,
      "bottom": null,
      "display": null,
      "flex": null,
      "flex_flow": null,
      "grid_area": null,
      "grid_auto_columns": null,
      "grid_auto_flow": null,
      "grid_auto_rows": null,
      "grid_column": null,
      "grid_gap": null,
      "grid_row": null,
      "grid_template_areas": null,
      "grid_template_columns": null,
      "grid_template_rows": null,
      "height": null,
      "justify_content": null,
      "justify_items": null,
      "left": null,
      "margin": null,
      "max_height": null,
      "max_width": null,
      "min_height": null,
      "min_width": null,
      "object_fit": null,
      "object_position": null,
      "order": null,
      "overflow": null,
      "overflow_x": null,
      "overflow_y": null,
      "padding": null,
      "right": null,
      "top": null,
      "visibility": null,
      "width": null
     }
    },
    "fa226e5ab35f4a70acfbd4223d1dad5d": {
     "model_module": "@jupyter-widgets/controls",
     "model_module_version": "1.5.0",
     "model_name": "DescriptionStyleModel",
     "state": {
      "_model_module": "@jupyter-widgets/controls",
      "_model_module_version": "1.5.0",
      "_model_name": "DescriptionStyleModel",
      "_view_count": null,
      "_view_module": "@jupyter-widgets/base",
      "_view_module_version": "1.2.0",
      "_view_name": "StyleView",
      "description_width": ""
     }
    }
   }
  }
 },
 "nbformat": 4,
 "nbformat_minor": 4
}
